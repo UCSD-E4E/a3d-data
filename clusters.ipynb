{
 "cells": [
  {
   "cell_type": "code",
   "execution_count": 7,
   "metadata": {},
   "outputs": [],
   "source": [
    "from pathlib import Path\n",
    "\n",
    "import numpy as np\n",
    "from sklearn import cluster, datasets\n",
    "from sklearn.preprocessing import StandardScaler"
   ]
  },
  {
   "cell_type": "code",
   "execution_count": 8,
   "metadata": {},
   "outputs": [],
   "source": [
    "n_samples = 500\n",
    "seed = 30\n",
    "\n",
    "rng = np.random.RandomState(seed)"
   ]
  },
  {
   "cell_type": "code",
   "execution_count": 9,
   "metadata": {},
   "outputs": [],
   "source": [
    "clusters_path = Path(\"./clusters\")\n",
    "clusters_path.mkdir(exist_ok=True)"
   ]
  },
  {
   "cell_type": "code",
   "execution_count": 10,
   "metadata": {},
   "outputs": [],
   "source": [
    "clusters_2d_path = clusters_path / \"2D\"\n",
    "clusters_2d_path.mkdir(exist_ok=True)"
   ]
  },
  {
   "cell_type": "code",
   "execution_count": null,
   "metadata": {},
   "outputs": [],
   "source": [
    "noisy_circles = datasets.make_circles(\n",
    "    n_samples=n_samples, factor=0.5, noise=0.05, random_state=seed\n",
    ")\n",
    "noisy_moons = datasets.make_moons(n_samples=n_samples, noise=0.05, random_state=seed)\n",
    "blobs = datasets.make_blobs(n_samples=n_samples, random_state=seed)\n",
    "no_structure = rng.rand(n_samples, 2), None\n",
    "\n",
    "# Anisotropicly distributed data\n",
    "random_state = 170\n",
    "X, y = datasets.make_blobs(n_samples=n_samples, random_state=random_state)\n",
    "transformation = [[0.6, -0.6], [-0.4, 0.8]]\n",
    "X_aniso = np.dot(X, transformation)\n",
    "aniso = (X_aniso, y)\n",
    "\n",
    "# blobs with varied variances\n",
    "varied = datasets.make_blobs(\n",
    "    n_samples=n_samples, cluster_std=[1.0, 2.5, 0.5], random_state=random_state\n",
    ")"
   ]
  },
  {
   "cell_type": "code",
   "execution_count": 15,
   "metadata": {},
   "outputs": [],
   "source": [
    "default_base = {\n",
    "    \"eps\": 0.3\n",
    "}\n",
    "\n",
    "dataset_results = {\n",
    "    \"noisy_circles\": (noisy_circles, { }),\n",
    "    \"noisy_moons\": (noisy_moons, { }),\n",
    "    \"varied\": (varied,\n",
    "        {\n",
    "            \"eps\": 0.18,\n",
    "        },\n",
    "    ),\n",
    "    \"aniso\": (\n",
    "        aniso,\n",
    "        {\n",
    "            \"eps\": 0.15,\n",
    "        },\n",
    "    ),\n",
    "    \"blobs\": (blobs, {\"min_samples\": 7, \"xi\": 0.1, \"min_cluster_size\": 0.2}),\n",
    "    \"no_structure\": (no_structure, {}),\n",
    "}"
   ]
  },
  {
   "cell_type": "code",
   "execution_count": 19,
   "metadata": {},
   "outputs": [],
   "source": [
    "for name, (dataset, algo_params) in dataset_results.items():\n",
    "    params = default_base.copy()\n",
    "    params.update(algo_params)\n",
    "\n",
    "    X, y = dataset\n",
    "\n",
    "    X = StandardScaler().fit_transform(X)\n",
    "\n",
    "    dbscan = cluster.DBSCAN(eps=params[\"eps\"])\n",
    "    dbscan.fit(X)\n",
    "\n",
    "    y_pred = dbscan.labels_.astype(int)\n",
    "\n",
    "    np.savez_compressed(clusters_2d_path / name, X=X, y=y, dbscan=y_pred)"
   ]
  }
 ],
 "metadata": {
  "kernelspec": {
   "display_name": "a3d-data-GgmMMZlW-py3.12",
   "language": "python",
   "name": "python3"
  },
  "language_info": {
   "codemirror_mode": {
    "name": "ipython",
    "version": 3
   },
   "file_extension": ".py",
   "mimetype": "text/x-python",
   "name": "python",
   "nbconvert_exporter": "python",
   "pygments_lexer": "ipython3",
   "version": "3.12.8"
  }
 },
 "nbformat": 4,
 "nbformat_minor": 2
}
