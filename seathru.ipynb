{
 "cells": [
  {
   "cell_type": "code",
   "execution_count": 1,
   "metadata": {},
   "outputs": [],
   "source": [
    "from glob import glob\n",
    "from pathlib import Path\n",
    "\n",
    "import cv2\n",
    "import numpy as np\n",
    "from PIL import Image\n",
    "from tqdm import tqdm"
   ]
  },
  {
   "cell_type": "code",
   "execution_count": 2,
   "metadata": {},
   "outputs": [
    {
     "name": "stderr",
     "output_type": "stream",
     "text": [
      "100%|██████████| 1205/1205 [22:02<00:00,  1.10s/it]\n"
     ]
    }
   ],
   "source": [
    "depth_files = [Path(f) for f in glob(\"./seathru/**/**/**/*.tif\")]\n",
    "for depth_file in tqdm(depth_files):\n",
    "    png_file = (\n",
    "        depth_file.parent.parent\n",
    "        / \"linearPNG\"\n",
    "        / f\"{depth_file.stem[len(\"depth\"):]}.png\"\n",
    "    )\n",
    "    numpy_file = depth_file.parent / f\"{depth_file.stem}\"\n",
    "\n",
    "    png = cv2.imread(png_file)\n",
    "    height, width, _ = png.shape\n",
    "\n",
    "    tif_image = Image.open(depth_file)\n",
    "    tif = np.array(tif_image)\n",
    "    tif = cv2.resize(tif, (width, height),  interpolation = cv2.INTER_NEAREST)\n",
    "\n",
    "    np.savez_compressed(numpy_file, depths=tif)"
   ]
  }
 ],
 "metadata": {
  "kernelspec": {
   "display_name": "a3d-data-GgmMMZlW-py3.12",
   "language": "python",
   "name": "python3"
  },
  "language_info": {
   "codemirror_mode": {
    "name": "ipython",
    "version": 3
   },
   "file_extension": ".py",
   "mimetype": "text/x-python",
   "name": "python",
   "nbconvert_exporter": "python",
   "pygments_lexer": "ipython3",
   "version": "3.12.8"
  }
 },
 "nbformat": 4,
 "nbformat_minor": 2
}
